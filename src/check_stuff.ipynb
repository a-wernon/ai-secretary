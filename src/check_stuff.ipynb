{
 "cells": [
  {
   "cell_type": "code",
   "execution_count": 26,
   "outputs": [
    {
     "ename": "ValueError",
     "evalue": "not enough values to unpack (expected 3, got 2)",
     "output_type": "error",
     "traceback": [
      "\u001B[0;31m---------------------------------------------------------------------------\u001B[0m",
      "\u001B[0;31mValueError\u001B[0m                                Traceback (most recent call last)",
      "Cell \u001B[0;32mIn [26], line 11\u001B[0m\n\u001B[1;32m      9\u001B[0m users \u001B[38;5;241m=\u001B[39m glob\u001B[38;5;241m.\u001B[39mglob(folder \u001B[38;5;241m+\u001B[39m \u001B[38;5;124m'\u001B[39m\u001B[38;5;124m/*\u001B[39m\u001B[38;5;124m'\u001B[39m)\n\u001B[1;32m     10\u001B[0m \u001B[38;5;28;01mfor\u001B[39;00m u \u001B[38;5;129;01min\u001B[39;00m users:\n\u001B[0;32m---> 11\u001B[0m     msg_raw \u001B[38;5;241m=\u001B[39m extract_all_messages_from_html(\u001B[38;5;28mopen\u001B[39m(u \u001B[38;5;241m+\u001B[39m \u001B[38;5;124m'\u001B[39m\u001B[38;5;124m/message_1.html\u001B[39m\u001B[38;5;124m'\u001B[39m, \u001B[38;5;124m'\u001B[39m\u001B[38;5;124mr\u001B[39m\u001B[38;5;124m'\u001B[39m))\n\u001B[1;32m     12\u001B[0m     messages \u001B[38;5;241m=\u001B[39m glue_neighbours_cut_owner(msg_raw, owner\u001B[38;5;241m=\u001B[39m\u001B[38;5;124m'\u001B[39m\u001B[38;5;124mТЕЛЕФОНЫ / ГРОЗНЫЙ / АНТИГРАВИЙНАЯ ПЛЕНКА\u001B[39m\u001B[38;5;124m'\u001B[39m)\n\u001B[1;32m     13\u001B[0m     \u001B[38;5;28;01mbreak\u001B[39;00m\n",
      "File \u001B[0;32m~/PycharmProjects/ai-secretary/src/utils.py:18\u001B[0m, in \u001B[0;36mextract_all_messages_from_html\u001B[0;34m(html)\u001B[0m\n\u001B[1;32m     15\u001B[0m date_str \u001B[38;5;241m=\u001B[39m tag\u001B[38;5;241m.\u001B[39mfind_all(\u001B[38;5;124m'\u001B[39m\u001B[38;5;124mdiv\u001B[39m\u001B[38;5;124m'\u001B[39m, class_\u001B[38;5;241m=\u001B[39m\u001B[38;5;124m\"\u001B[39m\u001B[38;5;124m_3-94 _a6-o\u001B[39m\u001B[38;5;124m\"\u001B[39m)[\u001B[38;5;241m0\u001B[39m]\u001B[38;5;241m.\u001B[39mcontents[\u001B[38;5;241m0\u001B[39m]\n\u001B[1;32m     17\u001B[0m \u001B[38;5;66;03m# workaround for strptime\u001B[39;00m\n\u001B[0;32m---> 18\u001B[0m date, year, time \u001B[38;5;241m=\u001B[39m date_str\u001B[38;5;241m.\u001B[39msplit(\u001B[38;5;124m'\u001B[39m\u001B[38;5;124m,\u001B[39m\u001B[38;5;124m'\u001B[39m)\n\u001B[1;32m     19\u001B[0m \u001B[38;5;28;01mif\u001B[39;00m \u001B[38;5;28mlen\u001B[39m(time\u001B[38;5;241m.\u001B[39msplit(\u001B[38;5;124m'\u001B[39m\u001B[38;5;124m:\u001B[39m\u001B[38;5;124m'\u001B[39m)[\u001B[38;5;241m0\u001B[39m]) \u001B[38;5;241m==\u001B[39m \u001B[38;5;241m2\u001B[39m:\n\u001B[1;32m     20\u001B[0m     time \u001B[38;5;241m=\u001B[39m \u001B[38;5;124m'\u001B[39m\u001B[38;5;124m 0\u001B[39m\u001B[38;5;124m'\u001B[39m \u001B[38;5;241m+\u001B[39m time[\u001B[38;5;241m1\u001B[39m:]\n",
      "\u001B[0;31mValueError\u001B[0m: not enough values to unpack (expected 3, got 2)"
     ]
    }
   ],
   "source": [
    "import glob\n",
    "\n",
    "from utils import (\n",
    "    glue_neighbours_cut_owner,\n",
    "    extract_all_messages_from_html,\n",
    ")\n",
    "\n",
    "folder = '/home/art-bash/Documents/datasets_msg/xstore/messages/inbox'\n",
    "users = glob.glob(folder + '/*')\n",
    "for u in users:\n",
    "    msg_raw = extract_all_messages_from_html(open(u + '/message_1.html', 'r'))\n",
    "    messages = glue_neighbours_cut_owner(msg_raw, owner='ТЕЛЕФОНЫ / ГРОЗНЫЙ / АНТИГРАВИЙНАЯ ПЛЕНКА')\n",
    "    break"
   ],
   "metadata": {
    "collapsed": false,
    "pycharm": {
     "name": "#%%\n"
    }
   }
  },
  {
   "cell_type": "code",
   "execution_count": 30,
   "outputs": [
    {
     "name": "stdout",
     "output_type": "stream",
     "text": [
      "Current Time: 16:29:20.831897\n",
      "Time in 24 hours format: Jan 01 1900 г., 16:29\n"
     ]
    }
   ],
   "source": [
    "from datetime import datetime\n",
    "\n",
    "# Get current time\n",
    "x_time = datetime.now().time()\n",
    "print('Current Time:', x_time)\n",
    "\n",
    "print(\"Time in 24 hours format:\", x_time.strftime(\"%b %d %Y г., %H:%M\"))"
   ],
   "metadata": {
    "collapsed": false,
    "pycharm": {
     "name": "#%%\n"
    }
   }
  },
  {
   "cell_type": "code",
   "execution_count": 28,
   "outputs": [
    {
     "data": {
      "text/plain": "'sf'"
     },
     "execution_count": 28,
     "metadata": {},
     "output_type": "execute_result"
    }
   ],
   "source": [
    "a"
   ],
   "metadata": {
    "collapsed": false,
    "pycharm": {
     "name": "#%%\n"
    }
   }
  },
  {
   "cell_type": "code",
   "execution_count": null,
   "outputs": [],
   "source": [],
   "metadata": {
    "collapsed": false,
    "pycharm": {
     "name": "#%%\n"
    }
   }
  }
 ],
 "metadata": {
  "kernelspec": {
   "display_name": "Python 3",
   "language": "python",
   "name": "python3"
  },
  "language_info": {
   "codemirror_mode": {
    "name": "ipython",
    "version": 2
   },
   "file_extension": ".py",
   "mimetype": "text/x-python",
   "name": "python",
   "nbconvert_exporter": "python",
   "pygments_lexer": "ipython2",
   "version": "2.7.6"
  }
 },
 "nbformat": 4,
 "nbformat_minor": 0
}