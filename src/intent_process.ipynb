{
 "cells": [
  {
   "cell_type": "code",
   "execution_count": 122,
   "outputs": [
    {
     "name": "stdout",
     "output_type": "stream",
     "text": [
      "The autoreload extension is already loaded. To reload it, use:\n",
      "  %reload_ext autoreload\n"
     ]
    },
    {
     "name": "stderr",
     "output_type": "stream",
     "text": [
      "[nltk_data] Downloading package stopwords to /home/art-\n",
      "[nltk_data]     bash/nltk_data...\n",
      "[nltk_data]   Package stopwords is already up-to-date!\n"
     ]
    }
   ],
   "source": [
    "import numpy as np\n",
    "import pandas as pd\n",
    "\n",
    "import itertools\n",
    "import math\n",
    "\n",
    "import matplotlib.pyplot as plt\n",
    "from matplotlib import gridspec\n",
    "\n",
    "from tqdm.notebook import tqdm\n",
    "import pymorphy2\n",
    "\n",
    "import nltk\n",
    "from nltk.tokenize import RegexpTokenizer\n",
    "\n",
    "from gensim.corpora import Dictionary\n",
    "from gensim.models.ldamodel import LdaModel\n",
    "from gensim.models import CoherenceModel\n",
    "\n",
    "from sklearn.feature_extraction.text import CountVectorizer\n",
    "\n",
    "import tqdm\n",
    "\n",
    "from pymystem3 import Mystem\n",
    "\n",
    "from Levenshtein import distance as lev\n",
    "\n",
    "import yaml\n",
    "nltk.download('stopwords')\n",
    "# pymorphy2 анализатор\n",
    "morph = pymorphy2.MorphAnalyzer()\n",
    "# стоп слова из nltk\n",
    "stops = nltk.corpus.stopwords.words('russian')\n",
    "\n",
    "%load_ext autoreload\n",
    "%autoreload"
   ],
   "metadata": {
    "collapsed": false,
    "pycharm": {
     "name": "#%%\n"
    }
   }
  },
  {
   "cell_type": "code",
   "execution_count": 123,
   "outputs": [],
   "source": [
    "with open('topics.yaml', 'r') as file:\n",
    "    topics_signature = yaml.safe_load(file)"
   ],
   "metadata": {
    "collapsed": false,
    "pycharm": {
     "name": "#%%\n"
    }
   }
  },
  {
   "cell_type": "code",
   "execution_count": 124,
   "outputs": [
    {
     "data": {
      "text/plain": "{'QUESTION': [['почем'], ['подскажите'], ['есть'], ['условия'], ['цена']],\n 'BUY': [['хочу', 'купить'], ['рассрочк'], ['сколько', 'стоит'], ['подарок']],\n 'REVIEW': [['спасибо']],\n 'INSTALLMENT': [['Грозн'], ['рассрочк']],\n 'ADVERTISEMENT': [['реклама'], ['сотрудничеств']],\n 'APPLE': [['iphone'], ['айфон'], ['apple'], ['эппл'], ['вотч'], ['watch']],\n 'HEADPHONES': [['наушник'], ['airpods']],\n 'DELIVERY': [['доставка']],\n 'ANDROID': [['самсунг'], ['ксиаоми'], ['xiaomi'], ['mi']]}"
     },
     "execution_count": 124,
     "metadata": {},
     "output_type": "execute_result"
    }
   ],
   "source": [
    "FL = '../dat/glue_all_but_owner.txt'\n",
    "\n",
    "topics_signature"
   ],
   "metadata": {
    "collapsed": false,
    "pycharm": {
     "name": "#%%\n"
    }
   }
  },
  {
   "cell_type": "code",
   "execution_count": 132,
   "outputs": [
    {
     "name": "stderr",
     "output_type": "stream",
     "text": [
      "[nltk_data] Downloading package stopwords to /home/art-\n",
      "[nltk_data]     bash/nltk_data...\n",
      "[nltk_data]   Package stopwords is already up-to-date!\n"
     ]
    },
    {
     "data": {
      "text/plain": "'<BUY> <INSTALLMENT> <APPLE> хочу купить айфон в рассрочку'"
     },
     "execution_count": 132,
     "metadata": {},
     "output_type": "execute_result"
    }
   ],
   "source": [
    "import pymorphy2\n",
    "\n",
    "import nltk\n",
    "from nltk.tokenize import RegexpTokenizer\n",
    "\n",
    "\n",
    "import tqdm\n",
    "\n",
    "\n",
    "from Levenshtein import distance as lev\n",
    "\n",
    "import yaml\n",
    "nltk.download('stopwords')\n",
    "# pymorphy2 анализатор\n",
    "morph = pymorphy2.MorphAnalyzer()\n",
    "# стоп слова из nltk\n",
    "stops = nltk.corpus.stopwords.words('russian')\n",
    "\n",
    "with open('topics.yaml', 'r') as file:\n",
    "    topics_signature = yaml.safe_load(file)\n",
    "\n",
    "def only_alpha_from_string(x):\n",
    "    return ''.join(a for a in x if (a.isalpha() or a == ' '))\n",
    "\n",
    "\n",
    "def get_min_dist(msg, tag):\n",
    "    min_lev = 1e6\n",
    "    for word in msg:\n",
    "        min_lev = min(lev(word, tag), min_lev)\n",
    "    return min_lev\n",
    "\n",
    "\n",
    "def check_tag(message_text, tag_content, lev_threshold=3):\n",
    "    fail_flg = False\n",
    "    for tag in tag_content:\n",
    "        if get_min_dist(message_text, tag) > lev_threshold:\n",
    "            fail_flg = True\n",
    "            break\n",
    "    return not fail_flg\n",
    "\n",
    "def check_topic(message_text, tags):\n",
    "    has_topic = False\n",
    "    relevant_tags = []\n",
    "    for tag in tags:\n",
    "        if check_tag(message_text, tag):\n",
    "            has_topic = True\n",
    "            relevant_tags.append(tag)\n",
    "    return has_topic, relevant_tags\n",
    "\n",
    "\n",
    "def check_message(orig_message_text, config):\n",
    "    message_text = only_alpha_from_string(orig_message_text).lower().split()\n",
    "    message_text = [x for x in [morph.normal_forms(word)[0] for word in message_text] \\\n",
    "             if x not in stops]\n",
    "    #print(message_text)\n",
    "    result = {}\n",
    "    for topic_name in config:\n",
    "        check_result, tags = check_topic(message_text, config[topic_name])\n",
    "        if check_result:\n",
    "            result[topic_name] = tags\n",
    "\n",
    "    result_message = ''\n",
    "    for fin_top in result:\n",
    "        result_message += '<' + fin_top + '> '\n",
    "    result_message += orig_message_text\n",
    "\n",
    "    return result_message\n",
    "\n",
    "check_message('хочу купить айфон в рассрочку', topics_signature)"
   ],
   "metadata": {
    "collapsed": false,
    "pycharm": {
     "name": "#%%\n"
    }
   }
  },
  {
   "cell_type": "code",
   "execution_count": 126,
   "outputs": [],
   "source": [
    "with open(FL, 'r') as fl:\n",
    "    messages = fl.readlines()\n",
    "    messages = [m.replace('\\n', '') for m in messages]\n"
   ],
   "metadata": {
    "collapsed": false,
    "pycharm": {
     "name": "#%%\n"
    }
   }
  },
  {
   "cell_type": "code",
   "execution_count": 127,
   "outputs": [],
   "source": [
    "ehehe = ['сколько стоят Наушники в рассрочку?']"
   ],
   "metadata": {
    "collapsed": false,
    "pycharm": {
     "name": "#%%\n"
    }
   }
  },
  {
   "cell_type": "code",
   "execution_count": 128,
   "outputs": [
    {
     "name": "stderr",
     "output_type": "stream",
     "text": [
      "100%|██████████| 100/100 [00:00<00:00, 701.25it/s]\n"
     ]
    }
   ],
   "source": [
    "topic_separation = []\n",
    "\n",
    "for ms in tqdm.tqdm(messages[:100]):\n",
    "    topic_separation.append(check_message(ms, topics_signature))"
   ],
   "metadata": {
    "collapsed": false,
    "pycharm": {
     "name": "#%%\n"
    }
   }
  },
  {
   "cell_type": "code",
   "execution_count": 129,
   "outputs": [
    {
     "data": {
      "text/plain": "['<QUESTION> <APPLE> сегодня смотреть , цвет , дело , мочь дать знать , цвет вариант , цена брат , время , цвет наличие , скидка мочь , брат мочь отдать , суббота сестра , брат , реквизит деньга часы , дать дойла , брат наличие , вариант , завтра , цена отдать ',\n '<APPLE> айфон мяло брат , взнос мяло вариант ',\n '<QUESTION> день цена , день цена ',\n '<QUESTION> <BUY> <INSTALLMENT> <APPLE> андроид камера мочь , каков условие рассрочка ',\n '<QUESTION> <BUY> <INSTALLMENT> <APPLE> айфон , белый , белый , цвет значение , взнос , рассрочка месяц , карантин ',\n '<QUESTION> <BUY> <INSTALLMENT> <APPLE> iphone , наличие , цена , iphone красный цена , условие рассрочка , наличие , цена ',\n '<QUESTION> <INSTALLMENT> <APPLE> часы , знать , айфон , айфон , защита , бронь , обмен , дать видеть телефон , царапина ',\n '<QUESTION> <BUY> <INSTALLMENT> брат , условие рассрочка , справка работа ',\n '<QUESTION> <APPLE> вечер , цена белый айфон ',\n '<QUESTION> <INSTALLMENT> <APPLE> бронь , дело , айфон голд , дело ',\n '<QUESTION> <APPLE> цена , знать айфон приложение инет ',\n 'samsung galaxy ultra смартфон южнокорейский компания ',\n '<QUESTION> <APPLE> <ANDROID> день , наличие самсунг , банк , месяц , жить , дело ',\n '<QUESTION> <APPLE> сало брат , магазин , дать этто , амин ',\n '<QUESTION> <DELIVERY> сало брат наличие люкс цена , доставка , регион , доставка регион ',\n '<QUESTION> <APPLE> время мочь смартфон андроид режим выдержка ',\n '<QUESTION> <APPLE> вечер новинка айфон блок расход аккумулятор , блок питание ',\n '<QUESTION> <BUY> <INSTALLMENT> <APPLE> iphone цвета цвет , цена информация рассрочка , ответ ',\n '<QUESTION> <HEADPHONES> комментарий , конкурс , хала сага , знать , обида , наушник микрофон наличие ',\n '<QUESTION> справа , попытка , окей , чехол , чехол , согласный ',\n '<QUESTION> <APPLE> наличие , понедельник , наличие , сегодня , батарейка айфон , цена , вопрос , понедельник , завтра телефон , мочь место мочь ',\n '<QUESTION> <APPLE> цена , наличие , почта ',\n '<QUESTION> <BUY> <INSTALLMENT> <APPLE> ночь , обмен , дело , айфон макс рассрочка месяц , айфон цвет , день , сборка ',\n '<QUESTION> <ADVERTISEMENT> реклама брат реклама лента охват хула охват ',\n 'nokia winchester легенда , оригинал ',\n 'наличие телефон телефон nokia акция конкурс , поделка ',\n '<QUESTION> <INSTALLMENT> <APPLE> ночь сегодня бронь телефон разговор телефон динамик трещина , бронь , завтра , день день яблоко пятно стать внимание вчера стать сегодня , область , внимание чужой , чехол хозяин ',\n '<QUESTION> <BUY> <INSTALLMENT> <APPLE> айфон цена , рассрочка , наценка , условие брат , взнос , брат переплата предоплата , взнос ',\n '<QUESTION> <APPLE> белый цвет камера белый запись типо камера , любой телефон ',\n '<QUESTION> <REVIEW> новенький , знать , кепка , работяга молодец , мегар спасибо скидка аллах ',\n '<QUESTION> <REVIEW> <APPLE> цена ремешок часы , ремешок чехол цвет наличие , спасибо ',\n '<QUESTION> <BUY> <INSTALLMENT> <APPLE> <DELIVERY> рассрочка месяц , наличие , рассрочка месяц , наличие , доставка , город , минутка , подарок , завтра дело , заказ , тело , встреча , гарантия брат , номер карта , мочь номер карта перевод , номер , дело , дело , машинка машинка стрижка волос любой задача насадка регулятор длина лезвие режим скорость сборка покрытие заряд продажа наличие количество штука цена белый цвета , наличие , наличие белый , деньга , белый , дело ',\n '<BUY> <INSTALLMENT> рассрочка срок , салам , веденский ',\n '<QUESTION> <ANDROID> суна , минь , суна самсунг ультра , царапина экран , кхан ',\n '<QUESTION> цена , разница цена , тысяча ',\n '<QUESTION> <APPLE> айфон взнос , банк расс , айфон цвет взнос ',\n '<QUESTION> <BUY> <INSTALLMENT> <APPLE> привет , телефон , видеть рассрочка месяц , рассрочка месяц , грозный жить , жить грозный , чечня , дезь мила , телефон , взнос тысяча , поручитель , мать отец туда знать , весь , норма , информация дать взять , мочь месяц зарплата , поручитель , аферист , мочь рассрочка , амин , человек дать царех , гоча , дать , амин , айфон голд , дело ',\n '<QUESTION> <BUY> <INSTALLMENT> <APPLE> нота белый , айфон , память , дорогой тысяча грозный сити , разница , гарантия , айфон оригинал , клеть телефон ',\n '<BUY> <INSTALLMENT> наличие , наличие , message , салам , рассрочка ',\n '<QUESTION> <BUY> <REVIEW> <INSTALLMENT> <APPLE> <ANDROID> life , скидка , спасибо брат , айфон , рассрочка , дать взнос , life рассрочка , life рассрочка ',\n '<QUESTION> <APPLE> сало , айфон белый цена , айфон белый цена ',\n '<APPLE> привет , телефон , айфон , айфон , завтра ',\n '<QUESTION> <BUY> вечер , телефон цена , магазин , штука , фонарик , магазин , удача аллах ',\n '<QUESTION> <BUY> <INSTALLMENT> <DELIVERY> вложение , рассрочка цена , доставка ',\n '<QUESTION> <APPLE> apple watch , салям , песок ремешок , минь прайс , цена ',\n '<QUESTION> <BUY> <INSTALLMENT> телефон , банк , месяц , рассрочка взнос ',\n '<QUESTION> <BUY> <APPLE> <HEADPHONES> <DELIVERY> прайс , дать жара ребята , подписчик отзыв пациент загид курс результат результат мочь старание загид инструктор мочь фактор работа пациент загид курс осанка положение следствие нога походка позвоночник весь задача пациент привычка осанка загид время здоровье рука занятие нарушение эффект занятие консультация занятие центр адрес махачкала гаджиев занятие группа группа тело запись direct позвоночник здоровье осанка жизнь отзыв отзыв сколиоз грыжа артрит артроз ',\n '<QUESTION> <BUY> <APPLE> тело samsung galaxy ultra неделя скол царапина дать аллах ',\n 'стоимость , хакки , хакки ',\n '<APPLE> айфон плюс , айфон плюс ',\n '<QUESTION> <REVIEW> брат копия , сало , цена , спасибо ',\n '<QUESTION> <APPLE> макс , оклейка , телефон удар судьба оклейка айфон магазин поиск ',\n '<QUESTION> брат , пасть , комментарий пасть ',\n '<BUY> <INSTALLMENT> <ANDROID> самсунг плюс , отдать , рассрочка ',\n '<QUESTION> <BUY> <INSTALLMENT> день рассрочка банк , galaxy note ultra , наличие , цена , взнос рассрочка , завтра , дело завтра работа ',\n '<QUESTION> <BUY> <INSTALLMENT> <APPLE> наличие , дело , завтра , шорты кхан , окей , тело хунд , номер , шорты , цена , рассрочка , муха , пасть буна , пасть пасть ',\n '<QUESTION> <BUY> <REVIEW> <INSTALLMENT> <APPLE> день , спасибо , привет рассрочка прописка клиент военнослужащий слышать взять ',\n '<QUESTION> <APPLE> цена , брат дать , замена стекло брат ',\n '<QUESTION> <BUY> <INSTALLMENT> <APPLE> <ANDROID> условие рассрочка , lite , даша , месяц мочь , взнос деньга месяц отдать ',\n '<QUESTION> <BUY> <INSTALLMENT> <APPLE> рассрочка , рассрочка , категория весь информация телефон видео , рассрочка , дело ',\n '<QUESTION> <BUY> <INSTALLMENT> рассрочка , сало , цена ',\n '<QUESTION> телефон , суна , камера , друг ',\n '<QUESTION> <BUY> <INSTALLMENT> <APPLE> наличие айфон белый цвет , условие рассрочка ',\n '<QUESTION> <ANDROID> ремонт , скупка lite , макс , поступление месяц ',\n '<QUESTION> <APPLE> apple watch ремень , серия , цена ',\n '<QUESTION> <ADVERTISEMENT> <APPLE> клиент подписка метод продвижение день душа рассылка директ реклама скорость рассылка сообщение течение минута модерация мочь сообщение человек конкурент обращение аккаунт заказ direct , привет пост весь аудитория директ ',\n '<QUESTION> <INSTALLMENT> <APPLE> <ANDROID> аллах , оригинал , сборка , вчера бронь , мочь , ключ , вечер , цена белый телефон , самсунг наличие ',\n '<QUESTION> камера , цена , копия , наличие , оригинал ',\n '<QUESTION> <APPLE> стабилизатор телефон , мочь , смотреть место , немой , ободок телефон царапина , знать , дело ',\n '<QUESTION> <BUY> <INSTALLMENT> рассрочка месяц цена , рассрочка месяц цена ',\n 'время сутки , метод клиент ',\n '<QUESTION> <BUY> <APPLE> клиент канал стать поток клиент канал привлечение клиент конкурент компания количество покупатель речь площадка площадка посещаемость человек сутки минута товар услуга десятка тысяча человек помощь продвижение размещение создание магазин гарантия блокировка услуга любой товар услуга direct комментарий пост услуга заявка сайт ',\n '<QUESTION> день цена samsung galaxy ultra ',\n 'брат , проблема , бартер , экран ',\n '<QUESTION> <BUY> <INSTALLMENT> <APPLE> брат рассрочка условие муха , взнос месяц айфон , рассрочка ',\n '<QUESTION> <BUY> <APPLE> айфон цвет наличие , брат , телефон , модель , сайн сайн подарок , аллах , аллах , брат , телефон , аллах , брат , аллах , дать , день , брат ',\n '<QUESTION> <BUY> <REVIEW> <INSTALLMENT> вечер , рассрочка банк , спасибо , взнос ',\n '<QUESTION> <BUY> <APPLE> <HEADPHONES> <DELIVERY> наушник копия , доставка , маршрутка , почта , чехол , цена , цена , цена ',\n '<QUESTION> <BUY> <INSTALLMENT> <APPLE> <DELIVERY> категория вариант iphone версия комплект состояние гарантия половина месяц цена напротив поиск тело рассрочка скупка обмен доплата доставка грозный , предоплата ',\n '<APPLE> презентация ожидание iphone гаджет apple комментарий ',\n '<QUESTION> время сутки , макс цена , цена , message ',\n '<QUESTION> <BUY> <INSTALLMENT> <APPLE> цена условие рассрочка доверитель , бронь лата телефон , корпус ',\n '<QUESTION> <BUY> <REVIEW> <INSTALLMENT> <APPLE> <HEADPHONES> <DELIVERY> копия цена зарядка упаковка функциональность поиск устройство смена наушник индикатор заряд цена акция обзор наушник вопрос комментарий радость , салям мочь москва , доставка время , копия , копия , оригинал , оплата получение , отличие , москва район братеево почта , брат дать дать завтра знать связь , брат , индекс , москва улица квартира , аббас оглы , индекс , брат , телефон , брат , брат неделя почта , дать знать , ссылка знать смотреть , спасибо , машина грозный , салям , спасибо , салям , душа наушник , just perfect , салям чехол ',\n '<APPLE> айфон , время , информация , message , обклейка ',\n '<REVIEW> <APPLE> поколение , штука , скидка , скидка , айфон , спасибо , копия ',\n '<BUY> <INSTALLMENT> рассрочка , утро , ингушетия , исключение вариант ',\n '<QUESTION> <BUY> <INSTALLMENT> <APPLE> айфон наличие , день , месяц , цена рассрочка , наличие , дело , день условие рассрочка айфон ',\n '<QUESTION> <BUY> <INSTALLMENT> <APPLE> <HEADPHONES> утро note , цвет huawei , день прописка нальчик поручитель чечня , условие рассрочка взнос , взнос , месяц рассрочка ',\n '<QUESTION> телефон , прописка ингушетия , чечен ',\n '<QUESTION> часы , цена , память мяло ',\n '<QUESTION> <REVIEW> <APPLE> день айфон белый , наличие , цена мочь , цвет наличие , спасибо ',\n '<QUESTION> <BUY> <INSTALLMENT> <APPLE> вариант дать рассрочка , айфон рассрочка угар ',\n '<QUESTION> <APPLE> apple watch цена подписчик , дорога ',\n '<QUESTION> <APPLE> цена айфон макс , состояние , цвет , дело ',\n '<BUY> <INSTALLMENT> <APPLE> рассрочка , айфон , айфон ',\n '<QUESTION> <BUY> <APPLE> <DELIVERY> информация характеристика повод доставка , копия мочь , звук , проблема ',\n '<QUESTION> <APPLE> вечер , мочь замена динамика айфон , message ',\n '<QUESTION> условие , условие , наличие gold ',\n '<QUESTION> <BUY> <INSTALLMENT> <APPLE> айфон , рассрочка , фотка , сожаление жить махачкала ',\n '<QUESTION> <BUY> <INSTALLMENT> <APPLE> айфон , день , расточка условие ']"
     },
     "execution_count": 129,
     "metadata": {},
     "output_type": "execute_result"
    }
   ],
   "source": [
    "topic_separation"
   ],
   "metadata": {
    "collapsed": false,
    "pycharm": {
     "name": "#%%\n"
    }
   }
  },
  {
   "cell_type": "code",
   "execution_count": 130,
   "outputs": [
    {
     "data": {
      "text/plain": "4"
     },
     "execution_count": 130,
     "metadata": {},
     "output_type": "execute_result"
    }
   ],
   "source": [
    "lev('вотч', 'стоят')"
   ],
   "metadata": {
    "collapsed": false,
    "pycharm": {
     "name": "#%%\n"
    }
   }
  },
  {
   "cell_type": "code",
   "execution_count": 130,
   "outputs": [],
   "source": [],
   "metadata": {
    "collapsed": false,
    "pycharm": {
     "name": "#%%\n"
    }
   }
  }
 ],
 "metadata": {
  "kernelspec": {
   "display_name": "Python 3",
   "language": "python",
   "name": "python3"
  },
  "language_info": {
   "codemirror_mode": {
    "name": "ipython",
    "version": 2
   },
   "file_extension": ".py",
   "mimetype": "text/x-python",
   "name": "python",
   "nbconvert_exporter": "python",
   "pygments_lexer": "ipython2",
   "version": "2.7.6"
  }
 },
 "nbformat": 4,
 "nbformat_minor": 0
}